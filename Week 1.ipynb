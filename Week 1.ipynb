{
 "cells": [
  {
   "cell_type": "markdown",
   "metadata": {},
   "source": [
    "## Session 1\n",
    "Define a function that returns a list of numbers that sum up to one."
   ]
  },
  {
   "cell_type": "code",
   "execution_count": 1,
   "metadata": {
    "collapsed": true
   },
   "outputs": [],
   "source": [
    "from random import random\n",
    "from numpy import zeros\n",
    "#returns a list of n numbers that aproximately sum up to one\n",
    "def exercise1(n):\n",
    "    if (n<=0): raise Exception('The given number must be a positive integer.')\n",
    "    if (n==1): return [1]\n",
    "    numeros=zeros(n)\n",
    "    numeros[0:n-1]=[random() for i in range(n-1)]\n",
    "    numeros[n-1]=-sum(numeros[0:n-1])+1\n",
    "    return numeros"
   ]
  },
  {
   "cell_type": "code",
   "execution_count": 2,
   "metadata": {},
   "outputs": [
    {
     "name": "stdout",
     "output_type": "stream",
     "text": [
      "List: [ 0.90576161  0.7443093   0.52087507  0.34304289 -1.51398887]\n",
      "Sum: 1.0\n"
     ]
    }
   ],
   "source": [
    "x=exercise1(5)\n",
    "print('List: '+str(x))\n",
    "print('Sum: '+str(sum(x)))"
   ]
  },
  {
   "cell_type": "code",
   "execution_count": 3,
   "metadata": {
    "collapsed": true
   },
   "outputs": [],
   "source": [
    "from random import random,randint\n",
    "#returns a list of random size, within the specified range of positive numbers, of numbers that aproximately sum up to one\n",
    "def exercise1(inf,sup):\n",
    "    if (inf<=0): raise Exception('The given range must be positive.')\n",
    "    n=randint(inf,sup)\n",
    "    numeros=[random() for i in range(n)]\n",
    "    return [numeros[i]/sum(numeros) for i in range(n)]"
   ]
  },
  {
   "cell_type": "code",
   "execution_count": 4,
   "metadata": {},
   "outputs": [
    {
     "name": "stdout",
     "output_type": "stream",
     "text": [
      "Number of elements in the list: 108\n",
      "Sum: 0.9999999999999997\n"
     ]
    }
   ],
   "source": [
    "x=exercise1(1,1000)\n",
    "print('Number of elements in the list: '+str(len(x)))\n",
    "print('Sum: '+str(sum(x)))"
   ]
  },
  {
   "cell_type": "markdown",
   "metadata": {},
   "source": [
    "## Session 2\n",
    "1. Create a 10x10 2d array with 1 on the border and 0 inside."
   ]
  },
  {
   "cell_type": "code",
   "execution_count": 6,
   "metadata": {},
   "outputs": [
    {
     "name": "stdout",
     "output_type": "stream",
     "text": [
      "[[ 1.  1.  1.  1.  1.  1.  1.  1.  1.  1.]\n",
      " [ 1.  0.  0.  0.  0.  0.  0.  0.  0.  1.]\n",
      " [ 1.  0.  0.  0.  0.  0.  0.  0.  0.  1.]\n",
      " [ 1.  0.  0.  0.  0.  0.  0.  0.  0.  1.]\n",
      " [ 1.  0.  0.  0.  0.  0.  0.  0.  0.  1.]\n",
      " [ 1.  0.  0.  0.  0.  0.  0.  0.  0.  1.]\n",
      " [ 1.  0.  0.  0.  0.  0.  0.  0.  0.  1.]\n",
      " [ 1.  0.  0.  0.  0.  0.  0.  0.  0.  1.]\n",
      " [ 1.  0.  0.  0.  0.  0.  0.  0.  0.  1.]\n",
      " [ 1.  1.  1.  1.  1.  1.  1.  1.  1.  1.]]\n"
     ]
    }
   ],
   "source": [
    "import numpy as np\n",
    "Z=np.zeros((10,10))\n",
    "Z[0:10,(0,-1)]=np.ones((10,2))\n",
    "Z[(0,-1),0:10]=np.ones((2,10))\n",
    "print(Z)"
   ]
  },
  {
   "cell_type": "markdown",
   "metadata": {},
   "source": [
    "2. Create a structured array representing a position (x,y) and a color (r,g,b)"
   ]
  },
  {
   "cell_type": "code",
   "execution_count": 7,
   "metadata": {},
   "outputs": [
    {
     "name": "stdout",
     "output_type": "stream",
     "text": [
      "[(( 0.,  0.), ( 0.,  0.,  0.)) (( 0.,  0.), ( 0.,  0.,  0.))\n",
      " (( 0.,  0.), ( 0.,  0.,  0.)) (( 0.,  0.), ( 0.,  0.,  0.))\n",
      " (( 0.,  0.), ( 0.,  0.,  0.)) (( 0.,  0.), ( 0.,  0.,  0.))\n",
      " (( 0.,  0.), ( 0.,  0.,  0.)) (( 0.,  0.), ( 0.,  0.,  0.))\n",
      " (( 0.,  0.), ( 0.,  0.,  0.)) (( 0.,  0.), ( 0.,  0.,  0.))]\n"
     ]
    }
   ],
   "source": [
    "Z = np.zeros(10, [ ('position', [ ('x', float, 1),\n",
    "                                   ('y', float, 1)]),\n",
    "                    ('color',    [ ('r', float, 1),\n",
    "                                   ('g', float, 1),\n",
    "                                   ('b', float, 1)])])\n",
    "print(Z)"
   ]
  },
  {
   "cell_type": "markdown",
   "metadata": {},
   "source": [
    "3. Consider a large vector Z, compute Z to the power of 3 using 2 different methods"
   ]
  },
  {
   "cell_type": "code",
   "execution_count": 8,
   "metadata": {},
   "outputs": [
    {
     "name": "stdout",
     "output_type": "stream",
     "text": [
      "1 loop, best of 3: 1.74 s per loop\n",
      "1 loop, best of 3: 357 ms per loop\n",
      "1 loop, best of 3: 14.3 s per loop\n"
     ]
    }
   ],
   "source": [
    "x = np.random.rand(int(5e7))\n",
    "\n",
    "%timeit np.power(x,3) #1.85s\n",
    "%timeit x*x*x #360ms\n",
    "%timeit for i in range(len(x)): x[i]**3 #15.4s"
   ]
  },
  {
   "cell_type": "markdown",
   "metadata": {},
   "source": [
    "## Session 4\n",
    "### Challenge 1: Fix the script!\n",
    "The script was disorganized; many objects were called before being defined. I fixed it by organizing it according to the VTK pipeline. Once everything was in place the following result was displayed:\n",
    "<img src=\"challenge1sess4.png\">"
   ]
  },
  {
   "cell_type": "code",
   "execution_count": 9,
   "metadata": {
    "collapsed": true
   },
   "outputs": [],
   "source": [
    "import vtk"
   ]
  },
  {
   "cell_type": "code",
   "execution_count": 10,
   "metadata": {
    "collapsed": true
   },
   "outputs": [],
   "source": [
    "pl3d = vtk.vtkMultiBlockPLOT3DReader()\n",
    "xyx_file = \"data/combxyz.bin\"\n",
    "q_file = \"data/combq.bin\"\n",
    "pl3d.SetXYZFileName(xyx_file)\n",
    "pl3d.SetQFileName(q_file)\n",
    "pl3d.SetScalarFunctionNumber(100)\n",
    "pl3d.SetVectorFunctionNumber(202)\n",
    "pl3d.Update()"
   ]
  },
  {
   "cell_type": "code",
   "execution_count": 11,
   "metadata": {
    "collapsed": true
   },
   "outputs": [],
   "source": [
    "blocks = pl3d.GetOutput()\n",
    "b0 = blocks.GetBlock(0)\n",
    "points = vtk.vtkVertexGlyphFilter()\n",
    "points.SetInputData(b0)\n",
    "outline = vtk.vtkStructuredGridOutlineFilter()\n",
    "outline.SetInputData(b0)\n",
    "\n",
    "#mappers\n",
    "outlineMapper = vtk.vtkPolyDataMapper()\n",
    "outlineMapper.SetInputConnection(outline.GetOutputPort())\n",
    "\n",
    "scalarsMapper = vtk.vtkPolyDataMapper()\n",
    "scalarsMapper.SetInputConnection(points.GetOutputPort())\n",
    "scalarsMapper.SetScalarModeToUsePointData()\n",
    "\n",
    "#actors\n",
    "outlineActor = vtk.vtkActor()\n",
    "outlineActor.SetMapper(outlineMapper)\n",
    "outlineActor.GetProperty().SetColor(0.6,0.5,0.9)\n",
    "\n",
    "scalarsActor = vtk.vtkActor()\n",
    "scalarsActor.SetMapper(scalarsMapper)\n",
    "\n",
    "#rendering\n",
    "renderer = vtk.vtkRenderer()\n",
    "renderWindow = vtk.vtkRenderWindow()\n",
    "renderWindow.AddRenderer(renderer)\n",
    "interactor = vtk.vtkRenderWindowInteractor()\n",
    "interactor.SetInteractorStyle(vtk.vtkInteractorStyleTrackballCamera())\n",
    "interactor.SetRenderWindow(renderWindow)\n",
    "renderWindow.SetInteractor(interactor)\n",
    "\n",
    "renderer.SetBackground(0.6,0.5,0.9)\n",
    "renderer.AddActor(scalarsActor)\n",
    "renderer.AddActor(outlineActor)\n",
    "interactor.Start()"
   ]
  },
  {
   "cell_type": "markdown",
   "metadata": {},
   "source": [
    "### Homework\n",
    "Using the code from this lab session, create a Python script that contains all the steps (filters, mappers, actors,...)  that we discussed.\n",
    "\n",
    "I created the script to visualize the velocity vector of a subset of the jet dataset as arrows. The arrows point in the same direction as the vectors and are colored proportionally to their magnitude.\n",
    "\n",
    "<img src=\"sess4homework.png\">"
   ]
  },
  {
   "cell_type": "code",
   "execution_count": 13,
   "metadata": {
    "collapsed": true
   },
   "outputs": [],
   "source": [
    "import vtk\n",
    "#help(vtk.vtkRectilinearGridReader())\n",
    "\n",
    "rectGridReader = vtk.vtkRectilinearGridReader()\n",
    "rectGridReader.SetFileName(\"C:/users/bananin/documents/scientific computing/week 1/data/jet4_0.500.vtk\")\n",
    "# do not forget to call \"Update()\" at the end of the reader\n",
    "rectGridReader.Update()\n",
    "rectGridOutline = vtk.vtkRectilinearGridOutlineFilter()\n",
    "rectGridOutline.SetInputData(rectGridReader.GetOutput())\n",
    "\n",
    "magnitudeCalcFilter = vtk.vtkArrayCalculator()\n",
    "magnitudeCalcFilter.SetInputConnection(rectGridReader.GetOutputPort())\n",
    "magnitudeCalcFilter.AddVectorArrayName('vectors')\n",
    "# Set up here the array that is going to be used for the computation ('vectors')\n",
    "magnitudeCalcFilter.SetResultArrayName('magnitude')\n",
    "# Set up here the function that calculates the magnitude of a vector\n",
    "magnitudeCalcFilter.SetFunction(\"mag(vectors)\")\n",
    "magnitudeCalcFilter.Update()\n",
    "\n",
    "#Extract the data from the result of the vtkCalculator\n",
    "points = vtk.vtkPoints()\n",
    "grid = magnitudeCalcFilter.GetOutput()\n",
    "grid.GetPoints(points)\n",
    "scalars = grid.GetPointData().GetArray('magnitude')\n",
    "    \n",
    "#There are too many points, let's filter the points\n",
    "subset = vtk.vtkMaskPoints()\n",
    "subset.SetOnRatio(6000)\n",
    "#subset.RandomModeOn()\n",
    "subset.SetInputData(grid)\n",
    "\n",
    "arrow=vtk.vtkArrowSource()\n",
    "#Make a vtkPolyData with a vertex on each point.\n",
    "#pointsGlyph = vtk.vtkVertexGlyphFilter()\n",
    "glyph=vtk.vtkGlyph3D()\n",
    "glyph.SetInputConnection(subset.GetOutputPort())\n",
    "glyph.SetSourceConnection(arrow.GetOutputPort())\n",
    "glyph.SetVectorModeToUseVector()\n",
    "glyph.SetColorModeToColorByScalar()\n",
    "glyph.SetScaleModeToDataScalingOff()\n",
    "glyph.OrientOn()\n",
    "glyph.SetScaleFactor(0.2)\n",
    "#pointsGlyph.SetInputConnection(subset.GetOutputPort())\n",
    "#pointsGlyph.SetInputData(ugrid)\n",
    "#pointsGlyph.Update()\n",
    "glyph.Update()\n",
    "\n",
    "#mappers\n",
    "glyphMapper=vtk.vtkPolyDataMapper()\n",
    "glyphMapper.SetInputConnection(glyph.GetOutputPort())\n",
    "glyphMapper.ScalarVisibilityOn()\n",
    "#pointsMapper = vtk.vtkPolyDataMapper()\n",
    "#pointsMapper.SetInputConnection(pointsGlyph.GetOutputPort())\n",
    "#pointsMapper.SetScalarModeToUsePointData()\n",
    "rectGridOutlineMapper = vtk.vtkPolyDataMapper()\n",
    "rectGridOutlineMapper.SetInputConnection(rectGridOutline.GetOutputPort())\n",
    "\n",
    "#actors\n",
    "pointsActor = vtk.vtkActor()\n",
    "pointsActor.SetMapper(glyphMapper)\n",
    "outlineActor = vtk.vtkActor()\n",
    "outlineActor.SetMapper(rectGridOutlineMapper)\n",
    "outlineActor.GetProperty().SetColor(0.1, 0.1, 0.1)\n",
    "\n",
    "# Render of the filtered points\n",
    "renderer = vtk.vtkRenderer()\n",
    "renWin = vtk.vtkRenderWindow()\n",
    "renWin.AddRenderer(renderer)\n",
    "iren = vtk.vtkRenderWindowInteractor()\n",
    "iren.SetRenderWindow(renWin)\n",
    " \n",
    "renderer.AddActor(pointsActor)\n",
    "renderer.AddActor(outlineActor)\n",
    "renderer.SetBackground(238/255,130/255,238/255)\n",
    "renderer.ResetCamera()\n",
    "renderer.GetActiveCamera().Elevation(60.0)\n",
    "renderer.GetActiveCamera().Azimuth(30.0)\n",
    "renderer.GetActiveCamera().Zoom(1.0)\n",
    " \n",
    "renWin.SetSize(300, 300)\n",
    " \n",
    "# interact with data\n",
    "renWin.Render()\n",
    "iren.Start()"
   ]
  }
 ],
 "metadata": {
  "kernelspec": {
   "display_name": "Python 3",
   "language": "python",
   "name": "python3"
  },
  "language_info": {
   "codemirror_mode": {
    "name": "ipython",
    "version": 3
   },
   "file_extension": ".py",
   "mimetype": "text/x-python",
   "name": "python",
   "nbconvert_exporter": "python",
   "pygments_lexer": "ipython3",
   "version": "3.6.1"
  }
 },
 "nbformat": 4,
 "nbformat_minor": 2
}
